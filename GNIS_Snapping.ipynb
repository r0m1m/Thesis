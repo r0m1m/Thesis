{
 "cells": [
  {
   "cell_type": "code",
   "execution_count": 70,
   "id": "018c64d6-dff8-4aa4-8e6d-685b7b84bcc9",
   "metadata": {},
   "outputs": [],
   "source": [
    "import rasterio\n",
    "import geopandas as gpd\n",
    "import numpy as np\n",
    "from rasterio.transform import rowcol, xy\n",
    "from shapely.geometry import Point\n",
    "from pyproj import Geod"
   ]
  },
  {
   "cell_type": "code",
   "execution_count": 2,
   "id": "a24a4e77-5cd9-4965-b853-0081ae3ce0c1",
   "metadata": {},
   "outputs": [],
   "source": [
    "raster_path = r'C:\\Users\\somadder\\Thesis\\SM\\SM.tif'\n",
    "peaks_path = r'C:\\Users\\somadder\\Thesis\\SM\\sm_p3_peaks.shp'\n",
    "gnis_path = r'C:\\Users\\somadder\\Thesis\\SM\\GNIS_Summits.shp'"
   ]
  },
  {
   "cell_type": "code",
   "execution_count": 5,
   "id": "cbd29fb5-2807-41dc-8365-50d4fbeca918",
   "metadata": {},
   "outputs": [],
   "source": [
    "peaks = gpd.read_file(peaks_path)"
   ]
  },
  {
   "cell_type": "code",
   "execution_count": 7,
   "id": "56da32f5-4792-4fe6-87e1-fecf88099fb9",
   "metadata": {},
   "outputs": [],
   "source": [
    "gnis_s = gpd.read_file(gnis_path)"
   ]
  },
  {
   "cell_type": "code",
   "execution_count": 76,
   "id": "af0f2244-9c8d-4804-a97c-ddbc7a861f61",
   "metadata": {},
   "outputs": [],
   "source": [
    "def calculate_distance(x1, y1, x2, y2):\n",
    "    # Simple Euclidean distance calculation (valid for UTM coordinates)\n",
    "    return np.sqrt((x2 - x1)**2 + (y2 - y1)**2)"
   ]
  },
  {
   "cell_type": "code",
   "execution_count": 66,
   "id": "6ac51eab-21d5-4dc7-9d9b-b8cb4f07216e",
   "metadata": {},
   "outputs": [],
   "source": [
    "def move_upslope(raster, start_row, start_col, window_size=3):\n",
    "    height, width = raster.shape\n",
    "    current_row, current_col = start_row, start_col\n",
    "    current_value = raster[current_row, current_col]\n",
    "    while True:\n",
    "        window_rows = slice(max(0, current_row - 1), min(height, current_row + 2))\n",
    "        window_cols = slice(max(0, current_col - 1), min(width, current_col + 2))\n",
    "        window = raster[window_rows, window_cols]\n",
    "        # print(window_rows, window_cols)\n",
    "        # print(window)\n",
    "        max_value = np.max(window)\n",
    "        \n",
    "        # pad_width = window_size//2\n",
    "        # center_cell_mask = np.ones((window_size, window_size), dtype=bool)\n",
    "        # center_cell_mask[pad_width, pad_width] = False\n",
    "        # second_highest = max(window[center_cell_mask].ravel())\n",
    "\n",
    "        # print('max: ', max_value)\n",
    "        # print('second: ', second_highest)\n",
    "\n",
    "        if max_value <= current_value:\n",
    "            return current_row, current_col, current_value\n",
    "\n",
    "        max_position = np.unravel_index(np.argmax(window), window.shape)\n",
    "        # print(max_position)\n",
    "        current_row = max(0, min(height - 1, current_row - 1 + max_position[0]))\n",
    "        current_col = max(0, min(width - 1, current_col - 1 + max_position[1]))\n",
    "        current_value = raster[current_row, current_col]"
   ]
  },
  {
   "cell_type": "code",
   "execution_count": 77,
   "id": "fba6afad-76cd-4c13-842a-0d09dbd76ad2",
   "metadata": {
    "scrolled": true
   },
   "outputs": [
    {
     "name": "stderr",
     "output_type": "stream",
     "text": [
      "C:\\Users\\somadder\\AppData\\Local\\Temp\\ipykernel_10436\\2741870783.py:33: UserWarning: Column names longer than 10 characters will be truncated when saved to ESRI Shapefile.\n",
      "  new_gnis_features.to_file(r'C:\\Users\\somadder\\Thesis\\SM\\new_gnis_features.shp')\n"
     ]
    }
   ],
   "source": [
    "with rasterio.open(raster_path) as src:\n",
    "    raster = src.read(1)\n",
    "    transform = src.transform\n",
    "    crs = src.crs\n",
    "\n",
    "    gnis_features = gnis_s.to_crs(crs)\n",
    "\n",
    "    new_geometries = []\n",
    "    new_elevations = []\n",
    "    new_ids = []\n",
    "    distances = []\n",
    "\n",
    "    for idx, feature in gnis_features.iterrows():\n",
    "        x, y = feature.geometry.x, feature.geometry.y\n",
    "        row, col = rowcol(transform, x, y)\n",
    "        # print(row, col)\n",
    "        # print(raster[4645, 6611])\n",
    "        # print(feature['FEATURE_NA'])\n",
    "        new_row, new_col, new_elv = move_upslope(raster, row, col)\n",
    "        # print(new_row, new_col)\n",
    "        new_x, new_y = xy(transform, new_row, new_col)\n",
    "        # print(new_x, new_y)\n",
    "        # print(Point(transform * (new_row, new_col)))\n",
    "        new_geometries.append(Point(new_x, new_y))\n",
    "        new_elevations.append(new_elv)\n",
    "        new_ids.append(str(new_row)+str(new_col))\n",
    "        distances.append(calculate_distance(x, y, new_x, new_y))\n",
    "        \n",
    "    new_gnis_features = gpd.GeoDataFrame(gnis_features.drop(columns='geometry'), geometry=new_geometries, crs=crs)\n",
    "    new_gnis_features['n_ids'] = new_ids\n",
    "    new_gnis_features['distance_moved'] = distances\n",
    "    new_gnis_features.to_crs(gnis_s.crs)\n",
    "    new_gnis_features.to_file(r'C:\\Users\\somadder\\Thesis\\SM\\new_gnis_features.shp')"
   ]
  }
 ],
 "metadata": {
  "kernelspec": {
   "display_name": "Python 3 (ipykernel)",
   "language": "python",
   "name": "python3"
  },
  "language_info": {
   "codemirror_mode": {
    "name": "ipython",
    "version": 3
   },
   "file_extension": ".py",
   "mimetype": "text/x-python",
   "name": "python",
   "nbconvert_exporter": "python",
   "pygments_lexer": "ipython3",
   "version": "3.11.5"
  }
 },
 "nbformat": 4,
 "nbformat_minor": 5
}

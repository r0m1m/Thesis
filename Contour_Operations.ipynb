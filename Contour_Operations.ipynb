{
 "cells": [
  {
   "cell_type": "code",
   "execution_count": 1,
   "id": "17a65cf4-5218-478c-b327-1a956e1f4f75",
   "metadata": {},
   "outputs": [],
   "source": [
    "import os\n",
    "import rasterio\n",
    "from rasterio import features\n",
    "from rasterio.mask import mask\n",
    "from rasterio.plot import show\n",
    "from rasterio.transform import xy\n",
    "import geopandas as gpd\n",
    "from shapely.geometry import Polygon, MultiPolygon, Point\n",
    "from shapely.ops import nearest_points, transform\n",
    "from pyproj import Transformer\n",
    "import matplotlib.pyplot as plt\n",
    "from skimage import measure\n",
    "import numpy as np\n",
    "import math\n",
    "from kneed import KneeLocator"
   ]
  },
  {
   "cell_type": "code",
   "execution_count": 2,
   "id": "f3e97c8c-40b6-4d24-b563-28914cdb8971",
   "metadata": {},
   "outputs": [],
   "source": [
    "%matplotlib inline"
   ]
  },
  {
   "cell_type": "code",
   "execution_count": 3,
   "id": "e7eedb05-d5af-4e2e-8d70-4c18e08c61b9",
   "metadata": {},
   "outputs": [],
   "source": [
    "def open_raster(file_path):\n",
    "    \"\"\"\n",
    "    Open and read a raster file using the rasterio library.\n",
    "\n",
    "    Parameters:\n",
    "    - file_path (str): Path to the raster file.\n",
    "\n",
    "    Returns:\n",
    "    - Tuple[numpy.ndarray, Affine, CRS]: A tuple containing:\n",
    "      - numpy.ndarray: Raster data.\n",
    "      - Affine: Transformation information.\n",
    "      - CRS: Coordinate Reference System information.\n",
    "\n",
    "    The function uses the rasterio library to open the raster file specified by the `file_path`.\n",
    "    It reads the raster data, transformation information, and CRS (Coordinate Reference System),\n",
    "    and returns them as a tuple.\n",
    "    \"\"\"\n",
    "    with rasterio.open(file_path) as src:\n",
    "        raster = src.read(1)\n",
    "        transform = src.transform\n",
    "        crs = src.crs\n",
    "    return raster, transform, crs"
   ]
  },
  {
   "cell_type": "code",
   "execution_count": 4,
   "id": "7a8e8ef0-1228-4675-9c6b-e7e11513c239",
   "metadata": {},
   "outputs": [],
   "source": [
    "def show_raster(raster):\n",
    "    fig, ax = plt.subplots()\n",
    "    show(raster, ax=ax)"
   ]
  },
  {
   "cell_type": "code",
   "execution_count": 5,
   "id": "0c3c15b4-a0d5-46dc-839e-7c65250c50e7",
   "metadata": {},
   "outputs": [],
   "source": [
    "file_path = r'C:\\Users\\somadder\\Thesis\\CP\\CP.tif'"
   ]
  },
  {
   "cell_type": "code",
   "execution_count": 6,
   "id": "9e22e782-9b54-4df4-ae0b-5b0671848fb3",
   "metadata": {},
   "outputs": [],
   "source": [
    "current_dir = os.path.dirname(file_path)\n",
    "os.chdir(current_dir)"
   ]
  },
  {
   "cell_type": "code",
   "execution_count": 7,
   "id": "d101f57c-729f-437b-9522-6f7e6fa1d610",
   "metadata": {},
   "outputs": [],
   "source": [
    "dem, transform, crs = open_raster(file_path=file_path)"
   ]
  },
  {
   "cell_type": "code",
   "execution_count": 8,
   "id": "0ae9c7a3-53a0-4ba9-9296-c298cfcabb98",
   "metadata": {},
   "outputs": [],
   "source": [
    "peak_gdf = gpd.read_file('cp_30m_p3_peaks.shp')"
   ]
  },
  {
   "cell_type": "code",
   "execution_count": 9,
   "id": "c8baeaf4-55c5-4b68-befe-2ec384b0c1f1",
   "metadata": {},
   "outputs": [],
   "source": [
    "region_gdf = gpd.read_file('cp_30m_p3_regions.shp')"
   ]
  },
  {
   "cell_type": "code",
   "execution_count": 10,
   "id": "7147fe8f-49e9-4f4b-bbaf-6f4ed37d1312",
   "metadata": {},
   "outputs": [],
   "source": [
    "region_gdf['area'] = region_gdf.geometry.area"
   ]
  },
  {
   "cell_type": "code",
   "execution_count": 11,
   "id": "6a1aa487-316a-411e-9e40-f8f1c7327561",
   "metadata": {},
   "outputs": [],
   "source": [
    "region_gdf = region_gdf[(region_gdf['area'] >= 120000) & (region_gdf['area'] <= 10000000)]"
   ]
  },
  {
   "cell_type": "code",
   "execution_count": 18,
   "id": "f9bf83b0-5529-414f-a517-55374d021dc3",
   "metadata": {
    "scrolled": true
   },
   "outputs": [
    {
     "name": "stderr",
     "output_type": "stream",
     "text": [
      "C:\\Users\\somadder\\.conda\\envs\\thesis\\Lib\\site-packages\\geopandas\\geodataframe.py:1543: SettingWithCopyWarning: \n",
      "A value is trying to be set on a copy of a slice from a DataFrame.\n",
      "Try using .loc[row_indexer,col_indexer] = value instead\n",
      "\n",
      "See the caveats in the documentation: https://pandas.pydata.org/pandas-docs/stable/user_guide/indexing.html#returning-a-view-versus-a-copy\n",
      "  super().__setitem__(key, value)\n"
     ]
    }
   ],
   "source": [
    "out_shp_path = 'cp_peak_boundaries_test.shp'\n",
    "with rasterio.open(file_path) as src:\n",
    "    # raster = src.read(1)\n",
    "    # transform = src.transform\n",
    "    crs = src.crs\n",
    "    nodata = src.nodata\n",
    "    out_meta = src.meta.copy()\n",
    "    for region_idx, region_row in region_gdf.iterrows():\n",
    "        if region_row.peak_id != '433_1312':\n",
    "            continue\n",
    "        \n",
    "        region_geom = region_row.geometry\n",
    "        region_bounds = region_geom.bounds\n",
    "        clipped_raster, clipped_transform = mask(src, [region_geom], crop=True)\n",
    "        \n",
    "        valid_raster = clipped_raster[clipped_raster != nodata]\n",
    "        min_value = (np.ceil(valid_raster.min() / 5) * 5).astype(int)\n",
    "        max_value = (np.floor_divide(valid_raster.max(), 5) * 5).astype(int)\n",
    "\n",
    "        contour_data = []\n",
    "        for level in range(min_value, max_value+5, 5):\n",
    "            contours = measure.find_contours(clipped_raster[0], level)\n",
    "            contour_coords = [coord[:, [1, 0]] for coord in contours]\n",
    "            georef_coords = [np.array([xy(clipped_transform, col, row) for row, col in coord]) for coord in contour_coords]\n",
    "            contour_geoms = []\n",
    "            for coords in georef_coords:\n",
    "                if len(coords) >=4:\n",
    "                    contour_geoms.append(Polygon(coords))\n",
    "                else:\n",
    "                    continue\n",
    "            contour_geoms = [geom for geom in contour_geoms if geom.is_valid]\n",
    "            contour_data.extend([(geom, level) for geom in contour_geoms])\n",
    "\n",
    "        contour_gdf = gpd.GeoDataFrame(contour_data, columns=['geometry', 'level'], crs=crs)\n",
    "\n",
    "        peak_point = peak_gdf[peak_gdf['peak_id']==region_row.peak_id].geometry\n",
    "        contour_gdf['peak_contains'] = contour_gdf.geometry.apply(lambda geom: geom.contains(peak_point))\n",
    "        contour_gdf = contour_gdf[contour_gdf['peak_contains']==1]\n",
    "        contour_gdf['line'] = contour_gdf.boundary\n",
    "        contour_gdf['boundary_d'] = contour_gdf.line.apply(lambda geom: min([peak_point.distance(geom)]))\n",
    "\n",
    "        with rasterio.open('CP_Slope.tif') as slope_src:\n",
    "            for contour_idx, contour_row in contour_gdf.iterrows():\n",
    "                line = contour_row.line\n",
    "                out_slope, out_trans = mask(slope_src, [line], crop=True, filled=True, nodata=-999)\n",
    "                out_slope_array = out_slope.flatten()\n",
    "                only_masked_pixels = np.delete(out_slope_array, np.where(out_slope_array == -999))\n",
    "                if len(only_masked_pixels) > 0:\n",
    "                    min_slope = np.min(only_masked_pixels)\n",
    "                    max_slope = np.max(only_masked_pixels)\n",
    "                    avg_slope = np.average(only_masked_pixels)\n",
    "                    contour_gdf.at[contour_idx, 'slope_min'] = min_slope\n",
    "                    contour_gdf.at[contour_idx, 'slope_max'] = max_slope\n",
    "                    contour_gdf.at[contour_idx, 'slope_avg'] = avg_slope\n",
    "        \n",
    "        if len(contour_gdf) == 0:\n",
    "            continue\n",
    "        contour_gdf = contour_gdf.drop(['line', 'peak_contains'], axis=1)\n",
    "        contour_gdf = contour_gdf.sort_values(by='boundary_d')\n",
    "        x = contour_gdf['boundary_d']\n",
    "        y = contour_gdf['level']\n",
    "        kn = KneeLocator(x, y, curve='convex', direction='decreasing')\n",
    "        convex_elbow_point = kn.knee\n",
    "        kn_concave = KneeLocator(x, y, curve='concave', direction='decreasing')\n",
    "        concave_elbow_point = kn_concave.knee\n",
    "        bounds_df = contour_gdf[(contour_gdf['boundary_d'] == convex_elbow_point) | (contour_gdf['boundary_d'] == concave_elbow_point)]\n",
    "        bounds_df['peak_id'] = region_row.peak_id\n",
    "        if len(bounds_df) == 0:\n",
    "            continue\n",
    "        if os.path.exists(out_shp_path):\n",
    "            bounds_df.to_file(out_shp_path, driver='ESRI Shapefile', crs=crs, mode='a')\n",
    "        else:\n",
    "            bounds_df.to_file(out_shp_path, driver='ESRI Shapefile', crs=crs)\n",
    "        contour_gdf.to_file('temp/d.shp',driver='ESRI Shapefile', crs=crs)"
   ]
  },
  {
   "cell_type": "code",
   "execution_count": 99,
   "id": "417051cd-cb63-48b7-999a-4072cd26d03a",
   "metadata": {},
   "outputs": [
    {
     "data": {
      "text/plain": [
       "4"
      ]
     },
     "execution_count": 99,
     "metadata": {},
     "output_type": "execute_result"
    }
   ],
   "source": [
    "len(contour_coords)"
   ]
  },
  {
   "cell_type": "code",
   "execution_count": 178,
   "id": "abdb0d5c-4090-4cdd-a6c1-f7b203741dec",
   "metadata": {},
   "outputs": [],
   "source": [
    "contour_gdf = contour_gdf.sort_values(by='level')"
   ]
  },
  {
   "cell_type": "code",
   "execution_count": 19,
   "id": "b5036f89-ae0a-43b5-983f-21169d0f1e2d",
   "metadata": {},
   "outputs": [
    {
     "data": {
      "text/plain": [
       "<matplotlib.collections.PathCollection at 0x19a7fc3f890>"
      ]
     },
     "execution_count": 19,
     "metadata": {},
     "output_type": "execute_result"
    },
    {
     "data": {
      "image/png": "[encoded data removed]",
      "text/plain": [
       "<Figure size 800x600 with 1 Axes>"
      ]
     },
     "metadata": {},
     "output_type": "display_data"
    }
   ],
   "source": [
    "x = contour_gdf['boundary_d']\n",
    "y = contour_gdf['level']\n",
    "derivative = np.gradient(y, x)\n",
    "max = np.abs(derivative).max()\n",
    "threshold = max - max * .5\n",
    "significant_points = np.where(np.abs(derivative) > threshold)[0]\n",
    "fig, ax = plt.subplots(figsize=(8, 6))\n",
    "ax.plot(x, y)\n",
    "ax.scatter(x.iloc[significant_points], y.iloc[significant_points], color='r', marker='o', s=80)"
   ]
  },
  {
   "cell_type": "code",
   "execution_count": 55,
   "id": "d43a7855-3950-4678-ab35-05ce40748280",
   "metadata": {},
   "outputs": [],
   "source": []
  },
  {
   "cell_type": "code",
   "execution_count": 20,
   "id": "faab4e20-f13c-480a-82a0-471e9470c7ac",
   "metadata": {},
   "outputs": [],
   "source": [
    "contour_gdf = contour_gdf.sort_values(by='boundary_d')\n",
    "x = contour_gdf['boundary_d']\n",
    "y = contour_gdf['level']\n",
    "kn = KneeLocator(x, y, curve='concave', direction='decreasing')\n",
    "elbow_point = kn.knee"
   ]
  },
  {
   "cell_type": "code",
   "execution_count": 21,
   "id": "b8413207-66fe-4243-8266-16c5366417ee",
   "metadata": {},
   "outputs": [
    {
     "data": {
      "text/plain": [
       "101.41080486459886"
      ]
     },
     "execution_count": 21,
     "metadata": {},
     "output_type": "execute_result"
    }
   ],
   "source": [
    "elbow_point"
   ]
  },
  {
   "cell_type": "code",
   "execution_count": 33,
   "id": "75cf6093-1224-476e-9586-f196de09e161",
   "metadata": {},
   "outputs": [
    {
     "data": {
      "text/plain": [
       "40"
      ]
     },
     "execution_count": 33,
     "metadata": {},
     "output_type": "execute_result"
    }
   ],
   "source": [
    "np.where(x == elbow_point)[0][0]"
   ]
  },
  {
   "cell_type": "code",
   "execution_count": 35,
   "id": "d7b4d665-2b5a-4568-b63a-c354bfd2b3bc",
   "metadata": {},
   "outputs": [
    {
     "data": {
      "text/plain": [
       "geometry             POLYGON ((714096.1811027537 4052487.469033733,...\n",
       "level                                                             1685\n",
       "peak_contains                                                     True\n",
       "boundary_distance                                            343.49453\n",
       "slope_min                                                     1.620119\n",
       "slope_max                                                    53.217213\n",
       "slope_avg                                                    24.471714\n",
       "Name: 154, dtype: object"
      ]
     },
     "execution_count": 35,
     "metadata": {},
     "output_type": "execute_result"
    }
   ],
   "source": [
    "contour_gdf.iloc[40]"
   ]
  },
  {
   "cell_type": "code",
   "execution_count": 72,
   "id": "48a11ee2-67f9-47cd-be6f-148b0cdfaed6",
   "metadata": {},
   "outputs": [
    {
     "data": {
      "text/html": [
       "<div>\n",
       "<style scoped>\n",
       "    .dataframe tbody tr th:only-of-type {\n",
       "        vertical-align: middle;\n",
       "    }\n",
       "\n",
       "    .dataframe tbody tr th {\n",
       "        vertical-align: top;\n",
       "    }\n",
       "\n",
       "    .dataframe thead th {\n",
       "        text-align: right;\n",
       "    }\n",
       "</style>\n",
       "<table border=\"1\" class=\"dataframe\">\n",
       "  <thead>\n",
       "    <tr style=\"text-align: right;\">\n",
       "      <th></th>\n",
       "      <th>geometry</th>\n",
       "      <th>level</th>\n",
       "      <th>peak_contains</th>\n",
       "      <th>boundary_distance</th>\n",
       "      <th>slope_min</th>\n",
       "      <th>slope_max</th>\n",
       "      <th>slope_avg</th>\n",
       "    </tr>\n",
       "  </thead>\n",
       "  <tbody>\n",
       "    <tr>\n",
       "      <th>49</th>\n",
       "      <td>POLYGON ((704946.181 4051374.491, 704944.569 4...</td>\n",
       "      <td>1705</td>\n",
       "      <td>True</td>\n",
       "      <td>163.649479</td>\n",
       "      <td>2.385072</td>\n",
       "      <td>48.251114</td>\n",
       "      <td>25.34486</td>\n",
       "    </tr>\n",
       "  </tbody>\n",
       "</table>\n",
       "</div>"
      ],
      "text/plain": [
       "                                             geometry  level  peak_contains  \\\n",
       "49  POLYGON ((704946.181 4051374.491, 704944.569 4...   1705           True   \n",
       "\n",
       "    boundary_distance  slope_min  slope_max  slope_avg  \n",
       "49         163.649479   2.385072  48.251114   25.34486  "
      ]
     },
     "execution_count": 72,
     "metadata": {},
     "output_type": "execute_result"
    }
   ],
   "source": [
    "contour_gdf[contour_gdf['boundary_d'] == elbow_point]"
   ]
  },
  {
   "cell_type": "code",
   "execution_count": null,
   "id": "28cac642-011a-44e1-aded-49c6f908082d",
   "metadata": {},
   "outputs": [],
   "source": []
  }
 ],
 "metadata": {
  "kernelspec": {
   "display_name": "Python 3 (ipykernel)",
   "language": "python",
   "name": "python3"
  },
  "language_info": {
   "codemirror_mode": {
    "name": "ipython",
    "version": 3
   },
   "file_extension": ".py",
   "mimetype": "text/x-python",
   "name": "python",
   "nbconvert_exporter": "python",
   "pygments_lexer": "ipython3",
   "version": "3.11.5"
  }
 },
 "nbformat": 4,
 "nbformat_minor": 5
}
